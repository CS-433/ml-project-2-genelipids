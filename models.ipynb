{
 "cells": [
  {
   "cell_type": "markdown",
   "metadata": {},
   "source": [
    "# Data and Constants"
   ]
  },
  {
   "cell_type": "code",
   "execution_count": 2,
   "metadata": {},
   "outputs": [
    {
     "name": "stdout",
     "output_type": "stream",
     "text": [
      "Using cuda for computation\n"
     ]
    }
   ],
   "source": [
    "import pandas as pd\n",
    "import numpy as np\n",
    "import torch as torch\n",
    "from tqdm.notebook import tqdm\n",
    "from sklearn.model_selection import train_test_split\n",
    "from scipy.spatial import cKDTree\n",
    "from pycaret.regression import *\n",
    "from multiprocessing import Pool, cpu_count\n",
    "\n",
    "device = 'cuda' if torch.cuda.is_available() else 'cpu'\n",
    "print(f'Using {device} for computation')"
   ]
  },
  {
   "cell_type": "code",
   "execution_count": 3,
   "metadata": {},
   "outputs": [],
   "source": [
    "lipid_path = 'data/section12/lipids_section_12.parquet'\n",
    "gene_path = 'data/section12/genes_section_12.parquet'"
   ]
  },
  {
   "cell_type": "markdown",
   "metadata": {},
   "source": [
    "# Helper Functions"
   ]
  },
  {
   "cell_type": "code",
   "execution_count": 4,
   "metadata": {},
   "outputs": [],
   "source": [
    "def gaussian_weight(dists, std):\n",
    "    return torch.exp(-0.5 * (dists / std) ** 2)"
   ]
  },
  {
   "cell_type": "code",
   "execution_count": 5,
   "metadata": {},
   "outputs": [],
   "source": [
    "def exponential_decay(dists, avg_dist, factor):\n",
    "    return torch.exp(-factor * (dists - avg_dist))"
   ]
  },
  {
   "cell_type": "code",
   "execution_count": 6,
   "metadata": {},
   "outputs": [],
   "source": [
    "def logarithmic_weight(dists):\n",
    "    adjusted_dists = dists + 1e-6\n",
    "    return -torch.log(adjusted_dists)"
   ]
  },
  {
   "cell_type": "code",
   "execution_count": 7,
   "metadata": {},
   "outputs": [],
   "source": [
    "def inverse_distance(dists):\n",
    "    dists = torch.clamp(dists, min=1e-6)\n",
    "    return 1.0 / dists"
   ]
  },
  {
   "cell_type": "markdown",
   "metadata": {},
   "source": [
    "# Loading Dataset"
   ]
  },
  {
   "cell_type": "code",
   "execution_count": 8,
   "metadata": {},
   "outputs": [],
   "source": [
    "# Loading the dataset\n",
    "lipids_section_12 = pd.read_parquet(lipid_path, engine='pyarrow')\n",
    "genes_section_12 = pd.read_parquet(gene_path, engine='pyarrow')"
   ]
  },
  {
   "cell_type": "markdown",
   "metadata": {},
   "source": [
    "# Create cKDTree for fast query of neighbors"
   ]
  },
  {
   "cell_type": "code",
   "execution_count": 9,
   "metadata": {},
   "outputs": [],
   "source": [
    "# Create a KDTree object for the genes\n",
    "genes_coords = genes_section_12[['y_ccf', 'z_ccf']].values\n",
    "genes_kdtree = cKDTree(genes_coords)\n",
    "\n",
    "# Extract coordinates for lipids\n",
    "lipids_coords = lipids_section_12[['y_ccf', 'z_ccf']].values"
   ]
  },
  {
   "cell_type": "markdown",
   "metadata": {},
   "source": [
    "# Nearest Neighbor selection"
   ]
  },
  {
   "cell_type": "code",
   "execution_count": 8,
   "metadata": {},
   "outputs": [],
   "source": [
    "# Find the indices of the closest gene for each lipid point\n",
    "_, indices = genes_kdtree.query(lipids_coords, k=1)\n",
    "\n",
    "# Initialize an empty array for aggregated gene data\n",
    "aggregated_gene_data = np.zeros((len(lipids_coords), genes_section_12.iloc[:, 46:-50].shape[1]))\n",
    "\n",
    "# Aggregate gene data based on the closest neighbor\n",
    "for i, gene_index in enumerate(indices):\n",
    "    aggregated_gene_data[i] = genes_section_12.iloc[gene_index, 46:-50]\n",
    "\n",
    "# Convert the aggregated data into a DataFrame\n",
    "aggregated_gene_data_df = pd.DataFrame(aggregated_gene_data, columns=genes_section_12.columns[46:-50])"
   ]
  },
  {
   "cell_type": "markdown",
   "metadata": {},
   "source": [
    "# Average of nearest neighbors"
   ]
  },
  {
   "cell_type": "code",
   "execution_count": 10,
   "metadata": {},
   "outputs": [
    {
     "data": {
      "application/vnd.jupyter.widget-view+json": {
       "model_id": "3389ba3a69e34e7e9facaa18a039b5b8",
       "version_major": 2,
       "version_minor": 0
      },
      "text/plain": [
       "Aggregating Data:   0%|          | 0/89395 [00:00<?, ?it/s]"
      ]
     },
     "metadata": {},
     "output_type": "display_data"
    }
   ],
   "source": [
    "# Query to get the 5000 closest genes for each lipid point\n",
    "_, indices = genes_kdtree.query(lipids_coords, k=1000)\n",
    "\n",
    "# Convert indices and gene data to PyTorch tensors\n",
    "indices_tensor = torch.tensor(indices, dtype=torch.long).to(device)\n",
    "gene_data_tensor = torch.tensor(genes_section_12.iloc[:, 46:-50].values).to(device)\n",
    "n_genes = gene_data_tensor.shape[1]\n",
    "\n",
    "def aggregate_data(i, indices, gene_data, n_genes):\n",
    "    gene_indices = indices[i]\n",
    "    data = gene_data[gene_indices]\n",
    "    return data.mean(axis=0) if len(gene_indices) > 0 else torch.zeros(n_genes, device=device)\n",
    "\n",
    "# Initialize a tensor for aggregated gene data\n",
    "aggregated_gene_data = torch.zeros((len(lipids_coords), n_genes), device=device)\n",
    "\n",
    "# Perform the aggregation\n",
    "for i in tqdm(range(len(lipids_coords)), desc='Aggregating Data'):\n",
    "    aggregated_gene_data[i] = aggregate_data(i, indices_tensor, gene_data_tensor, n_genes)\n",
    "    \n",
    "# Move the results to CPU and convert to NumPy\n",
    "aggregated_gene_data_cpu = aggregated_gene_data.to('cpu').numpy()\n",
    "\n",
    "# Convert to DataFrame\n",
    "aggregated_gene_data_df = pd.DataFrame(aggregated_gene_data_cpu, columns=genes_section_12.columns[46:-50])"
   ]
  },
  {
   "cell_type": "markdown",
   "metadata": {},
   "source": [
    "# Inverse Distance Decay"
   ]
  },
  {
   "cell_type": "code",
   "execution_count": 8,
   "metadata": {},
   "outputs": [],
   "source": [
    "# Find the distances and indices of the 1000 closest genes for each lipid point\n",
    "distances, indices = genes_kdtree.query(lipids_coords, k=1000)\n",
    "\n",
    "# Convert distances and indices to PyTorch tensors\n",
    "distances_tensor = torch.tensor(distances, device=device)\n",
    "indices_tensor = torch.tensor(indices, dtype=torch.long, device=device)\n",
    "\n",
    "# Convert gene data to tensor\n",
    "gene_data_tensor = torch.tensor(genes_section_12.iloc[:, 46:-50].values, device=device)\n",
    "n_genes = gene_data_tensor.shape[1]\n",
    "\n",
    "def aggregate_data(i, distances, indices, gene_data):\n",
    "    dists = distances[i]\n",
    "    gene_indices = indices[i]\n",
    "    weights = inverse_distance(dists)\n",
    "    normalized_weights = weights / weights.sum()\n",
    "    weighted_data = gene_data[gene_indices] * normalized_weights[:, None]\n",
    "    return weighted_data.sum(axis=0)\n",
    "\n",
    "aggregated_gene_data = torch.zeros((len(lipids_coords), n_genes), device=device)\n",
    "\n",
    "for i in tqdm(range(len(lipids_coords)), desc='Aggregating Data'):\n",
    "    aggregated_gene_data[i] = aggregate_data(i, distances_tensor, indices_tensor, gene_data_tensor)\n",
    "\n",
    "aggregated_gene_data_cpu = aggregated_gene_data.to('cpu').numpy()\n",
    "aggregated_gene_data_df = pd.DataFrame(aggregated_gene_data_cpu, columns=genes_section_12.columns[46:-50])"
   ]
  },
  {
   "cell_type": "markdown",
   "metadata": {},
   "source": [
    "# Logarithm Decay"
   ]
  },
  {
   "cell_type": "code",
   "execution_count": 10,
   "metadata": {},
   "outputs": [
    {
     "data": {
      "application/vnd.jupyter.widget-view+json": {
       "model_id": "0047ecf1c1ae4bdfbcdf3147e6888758",
       "version_major": 2,
       "version_minor": 0
      },
      "text/plain": [
       "Aggregating data:   0%|          | 0/89395 [00:00<?, ?it/s]"
      ]
     },
     "metadata": {},
     "output_type": "display_data"
    }
   ],
   "source": [
    "distances, indices = genes_kdtree.query(lipids_coords, k=1000)\n",
    "\n",
    "# Convert data to PyTorch tensors and move to the selected device\n",
    "distances = torch.tensor(distances).to(device)\n",
    "indices = torch.tensor(indices, dtype=torch.long).to(device)  # Indices should be of type long\n",
    "genes_data = torch.tensor(genes_section_12.iloc[:, 46:-50].values).to(device)\n",
    "\n",
    "# Function to aggregate data using the new weighting scheme with PyTorch\n",
    "def aggregate_data():\n",
    "    weighted_sum = torch.zeros((len(lipids_coords), genes_section_12.iloc[:, 46:-50].shape[1]), device=device)\n",
    "    for i in tqdm(range(len(lipids_coords)), desc='Aggregating data'):\n",
    "        dists = distances[i]\n",
    "        gene_indices = indices[i]\n",
    "        weights = logarithmic_weight(dists)\n",
    "        normalized_weights = weights / weights.sum()\n",
    "        weighted_data = genes_data[gene_indices] * normalized_weights[:, None]\n",
    "        weighted_sum[i] = weighted_data.sum(axis=0)\n",
    "    return weighted_sum\n",
    "\n",
    "# Run the aggregation function\n",
    "aggregated_gene_data = aggregate_data()\n",
    "\n",
    "# Move the results back to CPU and convert to a DataFrame\n",
    "aggregated_gene_data_cpu = aggregated_gene_data.to('cpu').numpy()\n",
    "aggregated_gene_data_df = pd.DataFrame(aggregated_gene_data_cpu, columns=genes_section_12.columns[46:-50])"
   ]
  },
  {
   "cell_type": "markdown",
   "metadata": {},
   "source": [
    "# Exponential Decay"
   ]
  },
  {
   "cell_type": "code",
   "execution_count": 25,
   "metadata": {},
   "outputs": [
    {
     "data": {
      "application/vnd.jupyter.widget-view+json": {
       "model_id": "95b5752e63994515bd4815b9dadb9143",
       "version_major": 2,
       "version_minor": 0
      },
      "text/plain": [
       "Aggregating Data:   0%|          | 0/89395 [00:00<?, ?it/s]"
      ]
     },
     "metadata": {},
     "output_type": "display_data"
    }
   ],
   "source": [
    "# Convert distances and indices to tensors\n",
    "distances, indices = genes_kdtree.query(lipids_coords, k=1000)\n",
    "distances_tensor = torch.tensor(distances, device=device)\n",
    "indices_tensor = torch.tensor(indices, dtype=torch.long, device=device)\n",
    "\n",
    "# Calculate average distance and convert to tensor\n",
    "average_closest_distance_tensor = torch.mean(distances_tensor)\n",
    "\n",
    "# Convert gene data to tensor\n",
    "gene_data_tensor = torch.tensor(genes_section_12.iloc[:, 46:-50].values, device=device)\n",
    "n_genes = gene_data_tensor.shape[1]\n",
    "\n",
    "def aggregate_data(i, distances, indices, avg_dist, gene_data):\n",
    "    dists = distances[i]\n",
    "    gene_indices = indices[i]\n",
    "    weights = exponential_decay(dists, avg_dist, 0.1)\n",
    "    weighted_data = gene_data[gene_indices] * weights[:, None]\n",
    "    return weighted_data.sum(axis=0) / weights.sum() if weights.sum() > 0 else torch.zeros(n_genes, device=device)\n",
    "\n",
    "aggregated_gene_data = torch.zeros((len(lipids_coords), n_genes), device=device)\n",
    "\n",
    "for i in tqdm(range(len(lipids_coords)), desc='Aggregating Data'):\n",
    "    aggregated_gene_data[i] = aggregate_data(i, distances_tensor, indices_tensor, average_closest_distance_tensor, gene_data_tensor)\n",
    "    \n",
    "aggregated_gene_data_cpu = aggregated_gene_data.to('cpu').numpy()\n",
    "aggregated_gene_data_df = pd.DataFrame(aggregated_gene_data_cpu, columns=genes_section_12.columns[46:-50])"
   ]
  },
  {
   "cell_type": "markdown",
   "metadata": {},
   "source": [
    "\n",
    "# K neighbors gaussian mean of genes for a given lipids datapoint"
   ]
  },
  {
   "cell_type": "code",
   "execution_count": 20,
   "metadata": {},
   "outputs": [
    {
     "data": {
      "application/vnd.jupyter.widget-view+json": {
       "model_id": "f612af6f1d024e51921e45fb85522548",
       "version_major": 2,
       "version_minor": 0
      },
      "text/plain": [
       "Aggregating Data:   0%|          | 0/89395 [00:00<?, ?it/s]"
      ]
     },
     "metadata": {},
     "output_type": "display_data"
    }
   ],
   "source": [
    "# Convert distances and indices to tensors\n",
    "distances, indices = genes_kdtree.query(lipids_coords, k=5000)\n",
    "distances_tensor = torch.tensor(distances, device=device)\n",
    "indices_tensor = torch.tensor(indices, dtype=torch.long, device=device)\n",
    "\n",
    "# Calculate standard deviation of the distances\n",
    "std_closest_distance_tensor = torch.std(distances_tensor, dim=1)\n",
    "\n",
    "# Convert gene data to tensor\n",
    "gene_data_tensor = torch.tensor(genes_section_12.iloc[:, 46:-50].values, device=device)\n",
    "n_genes = gene_data_tensor.shape[1]\n",
    "\n",
    "def aggregate_data(i, distances, indices, std_dist, gene_data):\n",
    "    dists = distances[i]\n",
    "    gene_indices = indices[i]\n",
    "    weights = gaussian_weight(dists, std_dist[i])\n",
    "    weighted_data = gene_data[gene_indices] * weights[:, None]\n",
    "    return weighted_data.sum(axis=0) / weights.sum() if weights.sum() > 0 else torch.zeros(n_genes, device=device)\n",
    "\n",
    "aggregated_gene_data = torch.zeros((len(lipids_coords), n_genes), device=device)\n",
    "for i in tqdm(range(len(lipids_coords)), desc='Aggregating Data'):\n",
    "    aggregated_gene_data[i] = aggregate_data(i, distances_tensor, indices_tensor, std_closest_distance_tensor, gene_data_tensor)\n",
    "    \n",
    "# Move results to CPU\n",
    "aggregated_gene_data_cpu = aggregated_gene_data.to('cpu').numpy()\n",
    "\n",
    "# Convert to DataFrame\n",
    "aggregated_gene_data_df = pd.DataFrame(aggregated_gene_data_cpu, columns=genes_section_12.columns[46:-50])"
   ]
  },
  {
   "cell_type": "markdown",
   "metadata": {},
   "source": [
    "# Resulting genes and lipids DataFrames"
   ]
  },
  {
   "cell_type": "code",
   "execution_count": 11,
   "metadata": {},
   "outputs": [],
   "source": [
    "aggregated_gene_data_df = np.log1p(aggregated_gene_data_df)\n",
    "section_12_lipids_only = lipids_section_12.iloc[:, 13:]\n",
    "\n",
    "aggregated_gene_data_df = aggregated_gene_data_df.reset_index(drop=True)\n",
    "section_12_lipids_only = section_12_lipids_only.reset_index(drop=True)"
   ]
  },
  {
   "cell_type": "markdown",
   "metadata": {},
   "source": [
    "# Split Train/Test set"
   ]
  },
  {
   "cell_type": "code",
   "execution_count": 14,
   "metadata": {},
   "outputs": [],
   "source": [
    "# Prepare the features and target dataframes\n",
    "features_df = aggregated_gene_data_df.copy()\n",
    "target_df = section_12_lipids_only.copy()\n",
    "\n",
    "# Split the data into training and test sets\n",
    "X_train, X_test, y_train, y_test = train_test_split(features_df, target_df, test_size=0.3, random_state=42)\n",
    "\n",
    "# Export the full training and test sets to .h5 files\n",
    "X_train.to_parquet('data/train_features.parquet', engine='pyarrow')\n",
    "X_test.to_parquet('data/test_features.parquet', engine='pyarrow')\n",
    "y_train.to_parquet('data/train_targets.parquet', engine='pyarrow')\n",
    "y_test.to_parquet('data/test_targets.parquet', engine='pyarrow')"
   ]
  },
  {
   "cell_type": "markdown",
   "metadata": {},
   "source": [
    "# Selecting best model and training it and see the results"
   ]
  },
  {
   "cell_type": "code",
   "execution_count": null,
   "metadata": {},
   "outputs": [],
   "source": [
    "for i in tqdm(range(len(y_train.columns)), desc='Processing Lipids'):\n",
    "    # Extract the column name for the current index\n",
    "    lipid_name = y_train.columns[i]\n",
    "\n",
    "    # Concatenate the lipid column with the training and testing features\n",
    "    train_data = pd.concat([X_train, y_train.iloc[:, i]], axis=1)\n",
    "    test_data = pd.concat([X_test, y_test.iloc[:, i]], axis=1)\n",
    "    \n",
    "    # Setup PyCaret for each lipid\n",
    "    # Ensure that the test dataset is correctly specified\n",
    "    setup(data=train_data, test_data=test_data, \n",
    "          fold=5, session_id=42, use_gpu=True, preprocess=False)\n",
    "\n",
    "    # Create and plot the model\n",
    "    model = create_model('catboost')\n",
    "    \n",
    "    # Retrieving cross-validation results\n",
    "    metrics = pull()\n",
    "    \n",
    "    r2_mean = metrics.loc['Mean','R2']\n",
    "    mape_mean = metrics.loc['Mean', 'MAPE']\n",
    "    \n",
    "    print(\"R2 mean: \", r2_mean)\n",
    "    print(\"MAPE mean: \", mape_mean)\n",
    "    \n",
    "    # Append the results to the DataFrame\n",
    "    results_df = results_df.append({'Lipid': lipid_name, 'R2_mean': r2_mean, 'MAPE_mean': mape_mean}, ignore_index=True)\n",
    "    \n",
    "results_df.to_csv('results.csv')\n"
   ]
  }
 ],
 "metadata": {
  "kernelspec": {
   "display_name": "ml-project2",
   "language": "python",
   "name": "python3"
  },
  "language_info": {
   "codemirror_mode": {
    "name": "ipython",
    "version": 3
   },
   "file_extension": ".py",
   "mimetype": "text/x-python",
   "name": "python",
   "nbconvert_exporter": "python",
   "pygments_lexer": "ipython3",
   "version": "3.11.5"
  }
 },
 "nbformat": 4,
 "nbformat_minor": 2
}
